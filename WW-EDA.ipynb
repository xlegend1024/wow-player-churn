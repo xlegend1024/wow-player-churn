{
 "cells": [
  {
   "attachments": {},
   "cell_type": "markdown",
   "metadata": {},
   "source": [
    "# World of Warcraft \n",
    "\n",
    "EDA\n"
   ]
  },
  {
   "cell_type": "code",
   "execution_count": null,
   "metadata": {},
   "outputs": [],
   "source": [
    "import os\n",
    "import pandas as pd\n",
    "import numpy as np\n",
    "import seaborn as sns\n",
    "import plotly.express as px\n",
    "import matplotlib.pyplot as plt\n",
    "from src.utils import prep_parquet\n",
    "\n",
    "org_csv_file_path = \"./data/wowah_data.csv\"\n",
    "parquet_file_path = \"./data/wowah_data.parquet\"\n",
    "\n",
    "if os.path.exists(parquet_file_path):\n",
    "    df = pd.read_parquet(\"./data/wowah_data.parquet\")\n",
    "else:\n",
    "    prep_parquet(org_csv_file_path, playtime=1)\n",
    "    df = pd.read_parquet(\"./data/wowah_data.parquet\")\n",
    "\n",
    "df.head()"
   ]
  },
  {
   "cell_type": "code",
   "execution_count": null,
   "metadata": {},
   "outputs": [],
   "source": [
    "print(df.shape)"
   ]
  },
  {
   "cell_type": "code",
   "execution_count": null,
   "metadata": {},
   "outputs": [],
   "source": [
    "df.info()"
   ]
  },
  {
   "attachments": {},
   "cell_type": "markdown",
   "metadata": {},
   "source": [
    "## Understand features\n",
    "\n",
    "Analysis around data distribution \n"
   ]
  },
  {
   "attachments": {},
   "cell_type": "markdown",
   "metadata": {},
   "source": [
    "Remove players who has only 1 record\n",
    "\n",
    "- We can use the player data to understand the early churn of players"
   ]
  },
  {
   "cell_type": "code",
   "execution_count": null,
   "metadata": {},
   "outputs": [],
   "source": [
    "AVERAGEPLAYCOUNT = int(np.mean(df.groupby([\"char\"]).size()))\n",
    "print(f\"Average number of play time is {AVERAGEPLAYCOUNT}\")"
   ]
  },
  {
   "cell_type": "code",
   "execution_count": null,
   "metadata": {},
   "outputs": [],
   "source": [
    "print(len(df.groupby([\"char\"]).size()[df.groupby([\"char\"]).size() > AVERAGEPLAYCOUNT]), \"players are played the game more than\", AVERAGEPLAYCOUNT)"
   ]
  },
  {
   "cell_type": "code",
   "execution_count": null,
   "metadata": {},
   "outputs": [],
   "source": [
    "# get the player who is played the game most\n",
    "\n",
    "theplayer = df.groupby([\"char\"]).size()[df.groupby([\"char\"]).size() == 42801].index[0]\n",
    "df[df[\"char\"]==10].groupby([\"char\", \"level\"]).size()"
   ]
  },
  {
   "cell_type": "code",
   "execution_count": null,
   "metadata": {},
   "outputs": [],
   "source": [
    "df.groupby([\"char\"]).size()"
   ]
  },
  {
   "cell_type": "code",
   "execution_count": null,
   "metadata": {},
   "outputs": [],
   "source": [
    "df.groupby([\"char\"]).size()[df.groupby([\"char\"]).size()==1]"
   ]
  },
  {
   "cell_type": "code",
   "execution_count": null,
   "metadata": {},
   "outputs": [],
   "source": [
    "df[df['char'] == 2]"
   ]
  },
  {
   "cell_type": "code",
   "execution_count": null,
   "metadata": {},
   "outputs": [],
   "source": [
    "# df[\"char\"].value_counts()\n",
    "df.groupby([\"char\"]).size()[df.groupby([\"char\"]).size()>1000]"
   ]
  },
  {
   "cell_type": "code",
   "execution_count": null,
   "metadata": {},
   "outputs": [],
   "source": [
    "df[df[\"char\"] == 87853]"
   ]
  },
  {
   "cell_type": "code",
   "execution_count": null,
   "metadata": {},
   "outputs": [],
   "source": []
  }
 ],
 "metadata": {
  "kernelspec": {
   "display_name": "pcmlai2022aug",
   "language": "python",
   "name": "python3"
  },
  "language_info": {
   "codemirror_mode": {
    "name": "ipython",
    "version": 3
   },
   "file_extension": ".py",
   "mimetype": "text/x-python",
   "name": "python",
   "nbconvert_exporter": "python",
   "pygments_lexer": "ipython3",
   "version": "3.8.15"
  },
  "orig_nbformat": 4,
  "vscode": {
   "interpreter": {
    "hash": "d27ad380d1b57d598e6eaa10a1432dec91c2c786ebae52fa83cb5498316bdb07"
   }
  }
 },
 "nbformat": 4,
 "nbformat_minor": 2
}
