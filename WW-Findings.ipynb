{
 "cells": [
  {
   "attachments": {},
   "cell_type": "markdown",
   "metadata": {},
   "source": [
    "# Insight report\n",
    "\n",
    "    Suggestions for next planning\n",
    "\n",
    "_Behavior of gamer before they drop out the game_\n",
    "\n",
    "- Play more than usally before they stop play game\n",
    "- Encourage the gamers play the game consistent rather than long and frequent play\n",
    "\n",
    "_Recpapture gamers by adding new character_\n",
    "\n",
    "- Gamers want to have new experience which can be a point that attract gamers and bring back to the game again\n",
    "\n",
    "_Stragtegic maximum level uplift_\n",
    "\n",
    "- Too many gamers at stalled at level 70 \n",
    "\n",
    "_Enhance the game experience for players have been playing the game 5 and 7 8 months_\n",
    "\n"
   ]
  },
  {
   "attachments": {},
   "cell_type": "markdown",
   "metadata": {},
   "source": [
    "## 1. Gamers play intensively before quitting the game\n",
    "\n",
    "[Use ML Interprt to understand festure importance](./WW-InterpretModels.ipynb)\n",
    "\n",
    "    To maintain gamer engagement for a longer duration, it is crucial to prioritize consistent game play over intermittent bursts.\n",
    "\n",
    "According to the model interpretation, having a higher total number of game plays has a negative impact on the duration of game play. However, having a higher average game play has a positive impact on the duration of game play.\n",
    "\n",
    "In other words, it is more beneficial to have consistent game play instead of sporadic bursts in order to keep gamers engaged for a longer period of time.\n",
    "\n",
    "![](./images/interpretml_regression.png)"
   ]
  },
  {
   "attachments": {},
   "cell_type": "markdown",
   "metadata": {},
   "source": [
    "It’s important to help gamers play games consistently and also providing many zone to play the game for each level\n",
    "\n",
    "![](./images/interpretml_classification.png)"
   ]
  },
  {
   "attachments": {},
   "cell_type": "markdown",
   "metadata": {},
   "source": [
    "## 2. Recapture gamers by adding new character\n",
    "\n",
    "New character 'Death Knight' brought many new game player in October\n",
    "\n",
    "    The introduction of the new character, Death Knight, in October attracted many new players to World of Warcraft, helping to recapture the interest of gamers. This addition had a significant impact on the game, and it presents an opportunity to promote the character further and create an even greater impact.\n",
    "\n",
    "- Adding new charter brought huge impact to game\n",
    "- Use this opportuntiy to promote the new chracter to make bigger impact\n",
    "\n",
    "![](./images/bar_new_players_by_race.png)\n",
    "\n",
    "\n"
   ]
  },
  {
   "attachments": {},
   "cell_type": "markdown",
   "metadata": {},
   "source": [
    "Need to pay attention to the gamer who tried and lift \n",
    "\n",
    "    In October, the new version of the game was released and introduced new characters, but it also saw a significant number of players leave the game.\n",
    "\n",
    "- Suggest futher analysis to understand why the gamers lift in a month\n",
    "- With the new version of game relase, new characters were join in October but also left more\n",
    "\n",
    "![](./images/line_First_and_Last_Player_by_Month.png)"
   ]
  },
  {
   "attachments": {},
   "cell_type": "markdown",
   "metadata": {},
   "source": [
    "## 3. Need to plan a strategy uplift maximum level in right time\n",
    "\n",
    "- Number of players at level 70 is gerter than level 10 - 69\n",
    "- Especially players at level between 30 to 60 is very thin\n",
    "- Need a detail analysis to understand player behavior at level between 30 - 60 to know we're losing the gamers or not\n",
    "\n",
    "![](./images/Hist_level.png)\n",
    "\n",
    "- Players at level 60 tend to stay in one zone but play frequently\n",
    "- Players at level 70 move between many zones but do not play as often as level 60\n",
    "\n",
    "![](./images/scatter_numofJzone_ount.png)"
   ]
  },
  {
   "attachments": {},
   "cell_type": "markdown",
   "metadata": {},
   "source": [
    "## 4. Enhance the gameplay experience to entice gamers to play for an extended time.\n",
    "\n",
    "The intended audience comprises gamers who have played the game continuously for less than eight months\n",
    "\n",
    "    To encourage gamers who have played the game for less than eight months to continue playing for an extended period, it is essential to enhance the gameplay experience. By improving the overall quality of the game, such as graphics, sound effects, game mechanics, and level design, gamers are more likely to stay engaged for a more extended time.\n",
    "\n",
    "\n",
    "![](./images/pie_bar_play_duration_in_month.png)"
   ]
  },
  {
   "attachments": {},
   "cell_type": "markdown",
   "metadata": {},
   "source": [
    "End of report"
   ]
  }
 ],
 "metadata": {
  "kernelspec": {
   "display_name": "pcmlai",
   "language": "python",
   "name": "python3"
  },
  "language_info": {
   "codemirror_mode": {
    "name": "ipython",
    "version": 3
   },
   "file_extension": ".py",
   "mimetype": "text/x-python",
   "name": "python",
   "nbconvert_exporter": "python",
   "pygments_lexer": "ipython3",
   "version": "3.8.13"
  },
  "orig_nbformat": 4
 },
 "nbformat": 4,
 "nbformat_minor": 2
}
